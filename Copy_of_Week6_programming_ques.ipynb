{
  "nbformat": 4,
  "nbformat_minor": 0,
  "metadata": {
    "colab": {
      "provenance": [],
      "include_colab_link": true
    },
    "kernelspec": {
      "name": "python3",
      "display_name": "Python 3"
    },
    "language_info": {
      "name": "python"
    }
  },
  "cells": [
    {
      "cell_type": "markdown",
      "metadata": {
        "id": "view-in-github",
        "colab_type": "text"
      },
      "source": [
        "<a href=\"https://colab.research.google.com/github/amos-sketch/calcium-alert-ML/blob/main/Copy_of_Week6_programming_ques.ipynb\" target=\"_parent\"><img src=\"https://colab.research.google.com/assets/colab-badge.svg\" alt=\"Open In Colab\"/></a>"
      ]
    },
    {
      "cell_type": "code",
      "execution_count": null,
      "metadata": {
        "id": "3TDibK0Yrxm_"
      },
      "outputs": [],
      "source": [
        "import numpy as np\n",
        "import matplotlib.pyplot as plt\n"
      ]
    },
    {
      "cell_type": "markdown",
      "source": [
        "# Week-6\n",
        "\n",
        "**Note:**:\n",
        "\n",
        "- For questions that involve plotting, just enter $0$ as the answer in the portal.\n",
        "\n"
      ],
      "metadata": {
        "id": "1TBHlt7hAdN1"
      }
    },
    {
      "cell_type": "markdown",
      "source": [
        "## Dataset\n",
        "\n",
        "Run the cell given below to generate the data-matrix $X$ and target vector $y$. $X$ is of shape $(n, d)$, where $n$ denotes the number of samples and $d$ denotes the number of features. $y$ is of shape $(n,)$. You will be using this dataset for the rest of the assignment.\n",
        "\n",
        "**Do not edit this cell.**"
      ],
      "metadata": {
        "id": "XJKrscLo9qwH"
      }
    },
    {
      "cell_type": "code",
      "source": [
        "from sklearn.datasets import load_diabetes\n",
        "X, y = load_diabetes(return_X_y = True)\n",
        "\n",
        "# set the random seed value to 0\n",
        "np.random.seed(0)"
      ],
      "metadata": {
        "id": "GIygEzr49Xvf",
        "outputId": "a651101a-f405-4004-98e3-44b6b9fab13d",
        "colab": {
          "base_uri": "https://localhost:8080/",
          "height": 176
        }
      },
      "execution_count": null,
      "outputs": [
        {
          "output_type": "error",
          "ename": "NameError",
          "evalue": "name 'np' is not defined",
          "traceback": [
            "\u001b[0;31m---------------------------------------------------------------------------\u001b[0m",
            "\u001b[0;31mNameError\u001b[0m                                 Traceback (most recent call last)",
            "\u001b[0;32m/tmp/ipython-input-1-2742632697.py\u001b[0m in \u001b[0;36m<cell line: 0>\u001b[0;34m()\u001b[0m\n\u001b[1;32m      3\u001b[0m \u001b[0;34m\u001b[0m\u001b[0m\n\u001b[1;32m      4\u001b[0m \u001b[0;31m# set the random seed value to 0\u001b[0m\u001b[0;34m\u001b[0m\u001b[0;34m\u001b[0m\u001b[0m\n\u001b[0;32m----> 5\u001b[0;31m \u001b[0mnp\u001b[0m\u001b[0;34m.\u001b[0m\u001b[0mrandom\u001b[0m\u001b[0;34m.\u001b[0m\u001b[0mseed\u001b[0m\u001b[0;34m(\u001b[0m\u001b[0;36m0\u001b[0m\u001b[0;34m)\u001b[0m\u001b[0;34m\u001b[0m\u001b[0;34m\u001b[0m\u001b[0m\n\u001b[0m",
            "\u001b[0;31mNameError\u001b[0m: name 'np' is not defined"
          ]
        }
      ]
    },
    {
      "cell_type": "markdown",
      "source": [
        "## Problem 1\n",
        "How many samples are there in the dataset?\n",
        "\n"
      ],
      "metadata": {
        "id": "VAONMkaU91v7"
      }
    },
    {
      "cell_type": "markdown",
      "source": [
        "## Solution"
      ],
      "metadata": {
        "id": "LnXmn5t-V8Us"
      }
    },
    {
      "cell_type": "code",
      "source": [
        "import numpy as np\n",
        "np.random.seed(0)\n",
        "from sklearn.datasets import load_diabetes\n",
        "X, y = load_diabetes(return_X_y=True)\n",
        "\n",
        "print(\"Number of samples (rows):\", X.shape[0])# Write your solution code here"
      ],
      "metadata": {
        "id": "U_WEAtwXDqVF",
        "outputId": "5717c8ed-f2fb-424f-9f72-c592a951d905",
        "colab": {
          "base_uri": "https://localhost:8080/"
        }
      },
      "execution_count": null,
      "outputs": [
        {
          "output_type": "stream",
          "name": "stdout",
          "text": [
            "Number of samples (rows): 442\n"
          ]
        }
      ]
    },
    {
      "cell_type": "markdown",
      "source": [
        "## Problem 2\n",
        "\n",
        "How many features are there in the dataset?\n",
        "\n"
      ],
      "metadata": {
        "id": "ozjMS6e_91y3"
      }
    },
    {
      "cell_type": "markdown",
      "source": [
        "## Solution"
      ],
      "metadata": {
        "id": "xvFvIHN9V_s7"
      }
    },
    {
      "cell_type": "code",
      "source": [
        "from sklearn.datasets import load_diabetes\n",
        "X, y = load_diabetes(return_X_y=True)\n",
        "\n",
        "# Set the seed\n",
        "import numpy as np\n",
        "np.random.seed(0)\n",
        "\n",
        "# Check the number of features (columns)\n",
        "print(\"Number of features (columns):\", X.shape[1])"
      ],
      "metadata": {
        "id": "ii_yZn4N-Di8",
        "outputId": "cb318e34-be9f-41dc-d989-d369530b0ffc",
        "colab": {
          "base_uri": "https://localhost:8080/"
        }
      },
      "execution_count": null,
      "outputs": [
        {
          "output_type": "stream",
          "name": "stdout",
          "text": [
            "Number of features (columns): 10\n"
          ]
        }
      ]
    },
    {
      "cell_type": "markdown",
      "source": [
        "## Problem 3\n",
        "Write a function `shuffle_data(X, y)` that returns the shuffled $X$ and $y$.\n",
        "\n",
        "Note that it should shuffle the data pairs $(x_i, y_i)$.\n",
        "\n",
        "What will be the mean of the first 5 values in $y$?\n",
        "\n"
      ],
      "metadata": {
        "id": "HxIZaojUVGIL"
      }
    },
    {
      "cell_type": "code",
      "source": [
        "import numpy as np\n",
        "np.random.seed(0)\n",
        "from sklearn.datasets import load_diabetes\n",
        "X, y = load_diabetes(return_X_y=True)\n",
        "\n",
        "def shuffle_data(X, y):\n",
        "    # Get a random permutation of row indices\n",
        "    indices = np.random.permutation(len(X))\n",
        "\n",
        "    # Use the indices to shuffle X and y\n",
        "    X_shuffled = X[indices]\n",
        "    y_shuffled = y[indices]\n",
        "\n",
        "    return X_shuffled, y_shuffled\n",
        "\n",
        "X_shuffled, y_shuffled = shuffle_data(X, y)\n",
        "print(\"Mean of the first 5 values in y:\", np.mean(y_shuffled[:5]))\n",
        "\n",
        "\n",
        "\n",
        "\n",
        "\n",
        "\n"
      ],
      "metadata": {
        "id": "uLGsJyGkdgug",
        "outputId": "aa3179bf-c0d6-41f2-bd9d-f88dcb286fb1",
        "colab": {
          "base_uri": "https://localhost:8080/"
        }
      },
      "execution_count": null,
      "outputs": [
        {
          "output_type": "stream",
          "name": "stdout",
          "text": [
            "Mean of the first 5 values in y: 180.4\n"
          ]
        }
      ]
    },
    {
      "cell_type": "markdown",
      "source": [
        "## Problem 4\n",
        "\n",
        "Write a function `train_test_split(X, y, test_size)` that divides the data (X, y) into $X_{train}$, $X_{test}$, $y_{train}$, $y_{test}$ respectively as per test_size which should be a value between 0 and 1.\n",
        "\n",
        "That is, if test_size = $t$, then `int(t*n)` data points should go to test and the remaining data points should go to train.\n",
        "\n",
        "$X_{train}$, $X_{test}$, $y_{train}$, $y_{test}$ should be returned by the function.\n",
        "\n",
        "Set the test_size to be 0.25 and output the sum of all y values settling in $y_{test}$.\n",
        "\n",
        "\n",
        "\n",
        "\n",
        "\n",
        "\n"
      ],
      "metadata": {
        "id": "pfsUsn_8WSXZ"
      }
    },
    {
      "cell_type": "code",
      "source": [
        "import numpy as np\n",
        "np.random.seed(0)\n",
        "\n",
        "from sklearn.datasets import load_diabetes\n",
        "X, y = load_diabetes(return_X_y=True)\n",
        "\n",
        "# Step 1: Shuffle the data\n",
        "def shuffle_data(X, y):\n",
        "    indices = np.random.permutation(len(X))\n",
        "    return X[indices], y[indices]\n",
        "\n",
        "X_shuffled, y_shuffled = shuffle_data(X, y)\n",
        "\n",
        "# Step 2: Split into train and test\n",
        "def train_test_split(X, y, test_size):\n",
        "    n = len(X)\n",
        "    test_count = int(test_size * n)\n",
        "\n",
        "    Xtrain = X[:-test_count]\n",
        "    Xtest = X[-test_count:]\n",
        "    ytrain = y[:-test_count]\n",
        "    ytest = y[-test_count:]\n",
        "\n",
        "    return Xtrain, Xtest, ytrain, ytest\n",
        "\n",
        "# Set test size\n",
        "test_size = 0.25\n",
        "\n",
        "Xtrain, Xtest, ytrain, ytest = train_test_split(X_shuffled, y_shuffled, test_size)\n",
        "\n",
        "# Step 3: Output the sum of all y values in ytest\n",
        "print(\"Sum of y values in ytest:\", np.sum(ytest))\n",
        "\n"
      ],
      "metadata": {
        "id": "Y5VZVbT8dg2b",
        "outputId": "e3efe2d8-f5fa-421d-938c-5b0dd8e743e7",
        "colab": {
          "base_uri": "https://localhost:8080/"
        }
      },
      "execution_count": null,
      "outputs": [
        {
          "output_type": "stream",
          "name": "stdout",
          "text": [
            "Sum of y values in ytest: 16960.0\n"
          ]
        }
      ]
    },
    {
      "cell_type": "markdown",
      "source": [
        "## Problem 5\n",
        "\n",
        "What are the shapes of $X_{train}$, $X_{test}$, $y_{train}$, $y_{test}$ respectively?\n",
        "\n"
      ],
      "metadata": {
        "id": "D67g0r9ad8Ea"
      }
    },
    {
      "cell_type": "code",
      "source": [
        "# Import necessary libraries\n",
        "import numpy as np\n",
        "from sklearn.datasets import load_diabetes\n",
        "\n",
        "# Step 1: Set seed for reproducibility\n",
        "np.random.seed(0)\n",
        "\n",
        "# Step 2: Load the dataset\n",
        "X, y = load_diabetes(return_X_y=True)\n",
        "\n",
        "# Step 3: Define shuffle_data function\n",
        "def shuffle_data(X, y):\n",
        "    indices = np.random.permutation(len(X))\n",
        "    return X[indices], y[indices]\n",
        "\n",
        "# Step 4: Shuffle the dataset\n",
        "X_shuffled, y_shuffled = shuffle_data(X, y)\n",
        "\n",
        "# Step 5: Define train_test_split function\n",
        "def train_test_split(X, y, test_size):\n",
        "    n = len(X)\n",
        "    test_count = int(test_size * n)\n",
        "    Xtrain = X[:-test_count]\n",
        "    Xtest = X[-test_count:]\n",
        "    ytrain = y[:-test_count]\n",
        "    ytest = y[-test_count:]\n",
        "    return Xtrain, Xtest, ytrain, ytest\n",
        "\n",
        "# Step 6: Split the data\n",
        "test_size = 0.25\n",
        "Xtrain, Xtest, ytrain, ytest = train_test_split(X_shuffled, y_shuffled, test_size)\n",
        "\n",
        "# Step 7: Print the shapes\n",
        "print(\"Shape of Xtrain:\", Xtrain.shape)\n",
        "print(\"Shape of Xtest :\", Xtest.shape)\n",
        "print(\"Shape of ytrain:\", ytrain.shape)\n",
        "print(\"Shape of ytest :\", ytest.shape)\n",
        "# Write your solution code here"
      ],
      "metadata": {
        "id": "kTPAakKblF7q",
        "outputId": "b079c24d-e18b-448a-9350-564f2e457c90",
        "colab": {
          "base_uri": "https://localhost:8080/"
        }
      },
      "execution_count": null,
      "outputs": [
        {
          "output_type": "stream",
          "name": "stdout",
          "text": [
            "Shape of Xtrain: (332, 10)\n",
            "Shape of Xtest : (110, 10)\n",
            "Shape of ytrain: (332,)\n",
            "Shape of ytest : (110,)\n"
          ]
        }
      ]
    },
    {
      "cell_type": "markdown",
      "source": [
        "## Problem 6\n",
        "Add a dummy feature, i.e., a column containing all 1's (as the first column) in $X_{train}$ and $X_{test}$.\n",
        "\n",
        "Take the transpose of both $X_{train}$ and $X_{test}$.\n",
        "\n",
        "What are the shapes of $X_{train}$ and $X_{test}$?\n",
        "\n"
      ],
      "metadata": {
        "id": "nYgSo6DLe0n-"
      }
    },
    {
      "cell_type": "code",
      "source": [
        "import numpy as np\n",
        "from sklearn.datasets import load_diabetes\n",
        "\n",
        "# Set seed\n",
        "np.random.seed(0)\n",
        "\n",
        "# Load and shuffle\n",
        "X, y = load_diabetes(return_X_y=True)\n",
        "\n",
        "def shuffle_data(X, y):\n",
        "    indices = np.random.permutation(len(X))\n",
        "    return X[indices], y[indices]\n",
        "\n",
        "X, y = shuffle_data(X, y)\n",
        "\n",
        "# Split the data\n",
        "def train_test_split(X, y, test_size):\n",
        "    n = len(X)\n",
        "    test_count = int(test_size * n)\n",
        "    Xtrain = X[:-test_count]\n",
        "    Xtest = X[-test_count:]\n",
        "    ytrain = y[:-test_count]\n",
        "    ytest = y[-test_count:]\n",
        "    return Xtrain, Xtest, ytrain, ytest\n",
        "\n",
        "Xtrain, Xtest, ytrain, ytest = train_test_split(X, y, test_size=0.25)\n",
        "\n",
        "# 💡 Step: Add dummy feature (column of 1s)\n",
        "Xtrain = np.hstack([np.ones((Xtrain.shape[0], 1)), Xtrain])\n",
        "Xtest = np.hstack([np.ones((Xtest.shape[0], 1)), Xtest])\n",
        "\n",
        "# 💡 Step: Transpose\n",
        "Xtrain = Xtrain.T\n",
        "Xtest = Xtest.T\n",
        "\n",
        "# 🔍 Check shapes\n",
        "print(\"Shape of Xtrain:\", Xtrain.shape)\n",
        "print(\"Shape of Xtest :\", Xtest.shape)\n",
        "# Write your solution code here"
      ],
      "metadata": {
        "id": "Lgv2V9qnnNv3",
        "outputId": "3d0dba98-77f8-418b-e43d-a862a518c68a",
        "colab": {
          "base_uri": "https://localhost:8080/"
        }
      },
      "execution_count": null,
      "outputs": [
        {
          "output_type": "stream",
          "name": "stdout",
          "text": [
            "Shape of Xtrain: (11, 332)\n",
            "Shape of Xtest : (11, 110)\n"
          ]
        }
      ]
    },
    {
      "cell_type": "markdown",
      "source": [
        "## Problem 7\n",
        "\n",
        "Write a function `compute_weights(X, y)` that uses the closed form formula of linear regression and returns a weight vector.\n",
        "\n",
        "Call this function by passing $X_{train}$ and $y_{train}$. As the dummy feature was added as the first column, the first value in the weight vector will be the intercept. What is its value (rounded to one decimal place)?\n",
        "\n"
      ],
      "metadata": {
        "id": "mYY6hNkYf7gr"
      }
    },
    {
      "cell_type": "code",
      "source": [
        "import numpy as np\n",
        "from sklearn.datasets import load_diabetes\n",
        "\n",
        "# Set seed\n",
        "np.random.seed(0)\n",
        "\n",
        "# Load and shuffle\n",
        "X, y = load_diabetes(return_X_y=True)\n",
        "\n",
        "def shuffle_data(X, y):\n",
        "    indices = np.random.permutation(len(X))\n",
        "    return X[indices], y[indices]\n",
        "\n",
        "X, y = shuffle_data(X, y)\n",
        "\n",
        "# Train-test split\n",
        "def train_test_split(X, y, test_size):\n",
        "    n = len(X)\n",
        "    test_count = int(test_size * n)\n",
        "    Xtrain = X[:-test_count]\n",
        "    Xtest = X[-test_count:]\n",
        "    ytrain = y[:-test_count]\n",
        "    ytest = y[-test_count:]\n",
        "    return Xtrain, Xtest, ytrain, ytest\n",
        "\n",
        "Xtrain, Xtest, ytrain, ytest = train_test_split(X, y, test_size=0.25)\n",
        "\n",
        "# Add dummy feature\n",
        "Xtrain = np.hstack([np.ones((Xtrain.shape[0], 1)), Xtrain])\n",
        "Xtest = np.hstack([np.ones((Xtest.shape[0], 1)), Xtest])\n",
        "\n",
        "# Transpose\n",
        "Xtrain = Xtrain.T\n",
        "Xtest = Xtest.T\n",
        "\n",
        "# Compute weights\n",
        "def compute_weights(X, y):\n",
        "    XTX_inv = np.linalg.inv(X @ X.T)\n",
        "    XTy = X @ y\n",
        "    w = XTX_inv @ XTy\n",
        "    return w\n",
        "\n",
        "w = compute_weights(Xtrain, ytrain)\n",
        "\n",
        "# Print intercept\n",
        "print(\"Intercept (first value of weight vector):\", round(w[0], 1))\n",
        "# Write your solution code here"
      ],
      "metadata": {
        "id": "XWxPR8N5nc17",
        "outputId": "031b9f5b-d8b2-46be-cef2-ece67c929196",
        "colab": {
          "base_uri": "https://localhost:8080/"
        }
      },
      "execution_count": null,
      "outputs": [
        {
          "output_type": "stream",
          "name": "stdout",
          "text": [
            "Intercept (first value of weight vector): 150.8\n"
          ]
        }
      ]
    },
    {
      "cell_type": "markdown",
      "source": [
        "## Problem 8\n",
        "\n",
        "Write a function `MSE(X, y, w)` that returns the mean squared error for the given `X`, `y` as per `w` values.\n",
        "\n",
        "Using this function, compute the train error and test error.\n",
        "\n",
        "Note: Here `y` is the true `y` for `X`.\n",
        "\n",
        "Compute both train and test error.\n",
        "\n",
        "What is the value of test error?\n"
      ],
      "metadata": {
        "id": "XUKviVRZoh2j"
      }
    },
    {
      "cell_type": "code",
      "source": [
        "# Write your solution code here"
      ],
      "metadata": {
        "id": "PkAULslJD48q"
      },
      "execution_count": null,
      "outputs": []
    },
    {
      "cell_type": "markdown",
      "source": [
        "## Problem 9\n",
        "\n",
        "Write a function `compute_weights_ridge(X, y)` that uses the closed form formula of Ridge regression and returns a weight vector.\n",
        "\n",
        "Call this function by passing  `X_train`, `y_train` and 0.3 as the value of regularization strength.\n",
        "\n",
        "\n",
        "Find the sum of values in the weight vector obtained. How much reduction in total sum of weights is achieved with respect to the the weight vector obtained from 'plain' linear regression (without regularization) computed earlier.\n"
      ],
      "metadata": {
        "id": "mZZVbejulHyv"
      }
    },
    {
      "cell_type": "code",
      "source": [
        "# Write your solution code here"
      ],
      "metadata": {
        "id": "LCyCWK9dqZm1"
      },
      "execution_count": null,
      "outputs": []
    },
    {
      "cell_type": "markdown",
      "source": [
        "## Problem 10\n",
        "\n",
        "Compute the train error and test error. What is their absolute difference?\n",
        "\n"
      ],
      "metadata": {
        "id": "LC9Au6sPt1oT"
      }
    },
    {
      "cell_type": "code",
      "source": [
        "# Write your solution code here"
      ],
      "metadata": {
        "id": "iOUjJJpZ3BaZ"
      },
      "execution_count": null,
      "outputs": []
    },
    {
      "cell_type": "markdown",
      "source": [
        "## Problem 11\n",
        "\n",
        "Use 10 different values between 0 and 5 as the regularization strength and keep a record of the weight vectors obtained for each. Further, calculate the sum of weights for each weight vector.\n",
        "\n",
        "Plot these sums of weights (on y-axis) with respect to the regularization strength (on x-axis) and observe the reduction in (sum of) weights.\n",
        "\n"
      ],
      "metadata": {
        "id": "Wn6-FG5puh8O"
      }
    },
    {
      "cell_type": "code",
      "source": [
        "# Write your solution code here"
      ],
      "metadata": {
        "id": "zlzueWYWwtSi"
      },
      "execution_count": null,
      "outputs": []
    }
  ]
}